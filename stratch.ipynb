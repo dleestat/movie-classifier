{
 "cells": [
  {
   "cell_type": "markdown",
   "metadata": {},
   "source": [
    "http://www.cs.cmu.edu/~ark/personas/"
   ]
  },
  {
   "cell_type": "code",
   "execution_count": 1,
   "metadata": {
    "ExecuteTime": {
     "end_time": "2021-01-03T05:41:12.118852Z",
     "start_time": "2021-01-03T05:41:10.033258Z"
    }
   },
   "outputs": [],
   "source": [
    "import matplotlib.pyplot as plt\n",
    "import numpy as np\n",
    "import pandas as pd\n",
    "from sklearn.pipeline import make_pipeline\n",
    "from sklearn.preprocessing import MultiLabelBinarizer\n",
    "from sklearn.svm import LinearSVC\n",
    "%config InlineBackend.figure_format = 'retina'"
   ]
  },
  {
   "cell_type": "code",
   "execution_count": 2,
   "metadata": {
    "ExecuteTime": {
     "end_time": "2021-01-03T05:41:14.096562Z",
     "start_time": "2021-01-03T05:41:12.121851Z"
    }
   },
   "outputs": [],
   "source": [
    "genres = pd.read_csv(\n",
    "    'data/raw/movie.metadata.tsv',\n",
    "    converters={'genres': lambda x: list(eval(x).values())},\n",
    "    delimiter='\\t',\n",
    "    header=None,\n",
    "    index_col='id',\n",
    "    names=['id', 'genres'],\n",
    "    usecols=[0, 8])\n",
    "\n",
    "summaries = pd.read_csv(\n",
    "    'data/raw/plot_summaries.txt',\n",
    "    delimiter='\\t',\n",
    "    header=None,\n",
    "    index_col='id',\n",
    "    names=['id', 'summary'])\n",
    "\n",
    "df = summaries.merge(genres, on='id').reset_index(drop=True)\n",
    "mlb = MultiLabelBinarizer()\n",
    "labels = pd.DataFrame(mlb.fit_transform(df.genres), columns=mlb.classes_)\n",
    "df = pd.concat([df.summary, labels[labels.sum().nlargest(10).sort_index().index]], 1)"
   ]
  },
  {
   "cell_type": "code",
   "execution_count": 3,
   "metadata": {
    "ExecuteTime": {
     "end_time": "2021-01-03T05:41:14.118607Z",
     "start_time": "2021-01-03T05:41:14.104485Z"
    }
   },
   "outputs": [
    {
     "data": {
      "text/html": [
       "<div>\n",
       "<style scoped>\n",
       "    .dataframe tbody tr th:only-of-type {\n",
       "        vertical-align: middle;\n",
       "    }\n",
       "\n",
       "    .dataframe tbody tr th {\n",
       "        vertical-align: top;\n",
       "    }\n",
       "\n",
       "    .dataframe thead th {\n",
       "        text-align: right;\n",
       "    }\n",
       "</style>\n",
       "<table border=\"1\" class=\"dataframe\">\n",
       "  <thead>\n",
       "    <tr style=\"text-align: right;\">\n",
       "      <th></th>\n",
       "      <th>summary</th>\n",
       "      <th>Action</th>\n",
       "      <th>Black-and-white</th>\n",
       "      <th>Comedy</th>\n",
       "      <th>Crime Fiction</th>\n",
       "      <th>Drama</th>\n",
       "      <th>Horror</th>\n",
       "      <th>Indie</th>\n",
       "      <th>Romance Film</th>\n",
       "      <th>Thriller</th>\n",
       "      <th>World cinema</th>\n",
       "    </tr>\n",
       "  </thead>\n",
       "  <tbody>\n",
       "    <tr>\n",
       "      <th>0</th>\n",
       "      <td>Shlykov, a hard-working taxi driver and Lyosha...</td>\n",
       "      <td>0</td>\n",
       "      <td>0</td>\n",
       "      <td>0</td>\n",
       "      <td>0</td>\n",
       "      <td>1</td>\n",
       "      <td>0</td>\n",
       "      <td>0</td>\n",
       "      <td>0</td>\n",
       "      <td>0</td>\n",
       "      <td>1</td>\n",
       "    </tr>\n",
       "    <tr>\n",
       "      <th>1</th>\n",
       "      <td>The nation of Panem consists of a wealthy Capi...</td>\n",
       "      <td>1</td>\n",
       "      <td>0</td>\n",
       "      <td>0</td>\n",
       "      <td>0</td>\n",
       "      <td>1</td>\n",
       "      <td>0</td>\n",
       "      <td>0</td>\n",
       "      <td>0</td>\n",
       "      <td>0</td>\n",
       "      <td>0</td>\n",
       "    </tr>\n",
       "    <tr>\n",
       "      <th>2</th>\n",
       "      <td>Poovalli Induchoodan  is sentenced for six yea...</td>\n",
       "      <td>1</td>\n",
       "      <td>0</td>\n",
       "      <td>0</td>\n",
       "      <td>0</td>\n",
       "      <td>1</td>\n",
       "      <td>0</td>\n",
       "      <td>0</td>\n",
       "      <td>0</td>\n",
       "      <td>0</td>\n",
       "      <td>0</td>\n",
       "    </tr>\n",
       "    <tr>\n",
       "      <th>3</th>\n",
       "      <td>The Lemon Drop Kid , a New York City swindler,...</td>\n",
       "      <td>0</td>\n",
       "      <td>0</td>\n",
       "      <td>1</td>\n",
       "      <td>0</td>\n",
       "      <td>0</td>\n",
       "      <td>0</td>\n",
       "      <td>0</td>\n",
       "      <td>0</td>\n",
       "      <td>0</td>\n",
       "      <td>0</td>\n",
       "    </tr>\n",
       "    <tr>\n",
       "      <th>4</th>\n",
       "      <td>Seventh-day Adventist Church pastor Michael Ch...</td>\n",
       "      <td>0</td>\n",
       "      <td>0</td>\n",
       "      <td>0</td>\n",
       "      <td>1</td>\n",
       "      <td>1</td>\n",
       "      <td>0</td>\n",
       "      <td>0</td>\n",
       "      <td>0</td>\n",
       "      <td>0</td>\n",
       "      <td>1</td>\n",
       "    </tr>\n",
       "  </tbody>\n",
       "</table>\n",
       "</div>"
      ],
      "text/plain": [
       "                                             summary  Action  Black-and-white  \\\n",
       "0  Shlykov, a hard-working taxi driver and Lyosha...       0                0   \n",
       "1  The nation of Panem consists of a wealthy Capi...       1                0   \n",
       "2  Poovalli Induchoodan  is sentenced for six yea...       1                0   \n",
       "3  The Lemon Drop Kid , a New York City swindler,...       0                0   \n",
       "4  Seventh-day Adventist Church pastor Michael Ch...       0                0   \n",
       "\n",
       "   Comedy  Crime Fiction  Drama  Horror  Indie  Romance Film  Thriller  \\\n",
       "0       0              0      1       0      0             0         0   \n",
       "1       0              0      1       0      0             0         0   \n",
       "2       0              0      1       0      0             0         0   \n",
       "3       1              0      0       0      0             0         0   \n",
       "4       0              1      1       0      0             0         0   \n",
       "\n",
       "   World cinema  \n",
       "0             1  \n",
       "1             0  \n",
       "2             0  \n",
       "3             0  \n",
       "4             1  "
      ]
     },
     "execution_count": 3,
     "metadata": {},
     "output_type": "execute_result"
    }
   ],
   "source": [
    "df.head()"
   ]
  }
 ],
 "metadata": {
  "kernelspec": {
   "display_name": "Python 3",
   "language": "python",
   "name": "python3"
  },
  "language_info": {
   "codemirror_mode": {
    "name": "ipython",
    "version": 3
   },
   "file_extension": ".py",
   "mimetype": "text/x-python",
   "name": "python",
   "nbconvert_exporter": "python",
   "pygments_lexer": "ipython3",
   "version": "3.8.5"
  }
 },
 "nbformat": 4,
 "nbformat_minor": 4
}
