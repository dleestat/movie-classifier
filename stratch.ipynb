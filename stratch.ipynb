{
 "cells": [
  {
   "cell_type": "markdown",
   "metadata": {},
   "source": [
    "http://www.cs.cmu.edu/~ark/personas/"
   ]
  },
  {
   "cell_type": "code",
   "execution_count": 1,
   "metadata": {
    "ExecuteTime": {
     "end_time": "2021-01-03T05:50:56.057648Z",
     "start_time": "2021-01-03T05:50:53.888840Z"
    }
   },
   "outputs": [],
   "source": [
    "import matplotlib.pyplot as plt\n",
    "import numpy as np\n",
    "import pandas as pd\n",
    "from sklearn.model_selection import train_test_split\n",
    "from sklearn.pipeline import make_pipeline\n",
    "from sklearn.preprocessing import MultiLabelBinarizer\n",
    "from sklearn.svm import LinearSVC\n",
    "%config InlineBackend.figure_format = 'retina'"
   ]
  },
  {
   "cell_type": "code",
   "execution_count": 2,
   "metadata": {
    "ExecuteTime": {
     "end_time": "2021-01-03T05:50:58.010264Z",
     "start_time": "2021-01-03T05:50:56.060002Z"
    }
   },
   "outputs": [],
   "source": [
    "genres = pd.read_csv(\n",
    "    'data/raw/movie.metadata.tsv',\n",
    "    converters={'genres': lambda x: list(eval(x).values())},\n",
    "    delimiter='\\t',\n",
    "    header=None,\n",
    "    index_col='id',\n",
    "    names=['id', 'genres'],\n",
    "    usecols=[0, 8])\n",
    "\n",
    "summaries = pd.read_csv(\n",
    "    'data/raw/plot_summaries.txt',\n",
    "    delimiter='\\t',\n",
    "    header=None,\n",
    "    index_col='id',\n",
    "    names=['id', 'summary'])\n",
    "\n",
    "df = summaries.merge(genres, on='id').reset_index(drop=True)\n",
    "mlb = MultiLabelBinarizer()\n",
    "labels = pd.DataFrame(mlb.fit_transform(df.genres), columns=mlb.classes_)\n",
    "X, Y = df[['summary']], labels[labels.sum().nlargest(10).sort_index().index]\n",
    "X_train, X_val, Y_train, Y_val = train_test_split(X, Y, test_size=10000, random_state=0)"
   ]
  }
 ],
 "metadata": {
  "kernelspec": {
   "display_name": "Python 3",
   "language": "python",
   "name": "python3"
  },
  "language_info": {
   "codemirror_mode": {
    "name": "ipython",
    "version": 3
   },
   "file_extension": ".py",
   "mimetype": "text/x-python",
   "name": "python",
   "nbconvert_exporter": "python",
   "pygments_lexer": "ipython3",
   "version": "3.8.5"
  }
 },
 "nbformat": 4,
 "nbformat_minor": 4
}
