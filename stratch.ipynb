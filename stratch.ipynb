{
 "cells": [
  {
   "cell_type": "markdown",
   "metadata": {},
   "source": [
    "http://www.cs.cmu.edu/~ark/personas/"
   ]
  },
  {
   "cell_type": "code",
   "execution_count": 1,
   "metadata": {
    "ExecuteTime": {
     "end_time": "2021-01-03T04:15:00.703134Z",
     "start_time": "2021-01-03T04:14:59.659495Z"
    }
   },
   "outputs": [],
   "source": [
    "import matplotlib.pyplot as plt\n",
    "import numpy as np\n",
    "import pandas as pd\n",
    "%config InlineBackend.figure_format = 'retina'"
   ]
  },
  {
   "cell_type": "code",
   "execution_count": 2,
   "metadata": {
    "ExecuteTime": {
     "end_time": "2021-01-03T04:15:02.040080Z",
     "start_time": "2021-01-03T04:15:00.705389Z"
    }
   },
   "outputs": [
    {
     "data": {
      "text/html": [
       "<div>\n",
       "<style scoped>\n",
       "    .dataframe tbody tr th:only-of-type {\n",
       "        vertical-align: middle;\n",
       "    }\n",
       "\n",
       "    .dataframe tbody tr th {\n",
       "        vertical-align: top;\n",
       "    }\n",
       "\n",
       "    .dataframe thead th {\n",
       "        text-align: right;\n",
       "    }\n",
       "</style>\n",
       "<table border=\"1\" class=\"dataframe\">\n",
       "  <thead>\n",
       "    <tr style=\"text-align: right;\">\n",
       "      <th></th>\n",
       "      <th>summary</th>\n",
       "      <th>genres</th>\n",
       "    </tr>\n",
       "  </thead>\n",
       "  <tbody>\n",
       "    <tr>\n",
       "      <th>0</th>\n",
       "      <td>Shlykov, a hard-working taxi driver and Lyosha...</td>\n",
       "      <td>[Drama, World cinema]</td>\n",
       "    </tr>\n",
       "    <tr>\n",
       "      <th>1</th>\n",
       "      <td>The nation of Panem consists of a wealthy Capi...</td>\n",
       "      <td>[Action/Adventure, Science Fiction, Action, Dr...</td>\n",
       "    </tr>\n",
       "    <tr>\n",
       "      <th>2</th>\n",
       "      <td>Poovalli Induchoodan  is sentenced for six yea...</td>\n",
       "      <td>[Musical, Action, Drama, Bollywood]</td>\n",
       "    </tr>\n",
       "    <tr>\n",
       "      <th>3</th>\n",
       "      <td>The Lemon Drop Kid , a New York City swindler,...</td>\n",
       "      <td>[Screwball comedy, Comedy]</td>\n",
       "    </tr>\n",
       "    <tr>\n",
       "      <th>4</th>\n",
       "      <td>Seventh-day Adventist Church pastor Michael Ch...</td>\n",
       "      <td>[Crime Fiction, Drama, Docudrama, World cinema...</td>\n",
       "    </tr>\n",
       "    <tr>\n",
       "      <th>...</th>\n",
       "      <td>...</td>\n",
       "      <td>...</td>\n",
       "    </tr>\n",
       "    <tr>\n",
       "      <th>42199</th>\n",
       "      <td>The story is about Reema , a young Muslim scho...</td>\n",
       "      <td>[Children's]</td>\n",
       "    </tr>\n",
       "    <tr>\n",
       "      <th>42200</th>\n",
       "      <td>In 1928 Hollywood, director Leo Andreyev  look...</td>\n",
       "      <td>[Silent film, Indie, Black-and-white, Period p...</td>\n",
       "    </tr>\n",
       "    <tr>\n",
       "      <th>42201</th>\n",
       "      <td>American Luthier focuses on Randy Parsons’ tra...</td>\n",
       "      <td>[Short Film, Music, Biographical film, Documen...</td>\n",
       "    </tr>\n",
       "    <tr>\n",
       "      <th>42202</th>\n",
       "      <td>Abdur Rehman Khan , a middle-aged dry fruit se...</td>\n",
       "      <td>[Drama]</td>\n",
       "    </tr>\n",
       "    <tr>\n",
       "      <th>42203</th>\n",
       "      <td>1940 - Operation Dynamo has just taken place. ...</td>\n",
       "      <td>[Comedy]</td>\n",
       "    </tr>\n",
       "  </tbody>\n",
       "</table>\n",
       "<p>42204 rows × 2 columns</p>\n",
       "</div>"
      ],
      "text/plain": [
       "                                                 summary  \\\n",
       "0      Shlykov, a hard-working taxi driver and Lyosha...   \n",
       "1      The nation of Panem consists of a wealthy Capi...   \n",
       "2      Poovalli Induchoodan  is sentenced for six yea...   \n",
       "3      The Lemon Drop Kid , a New York City swindler,...   \n",
       "4      Seventh-day Adventist Church pastor Michael Ch...   \n",
       "...                                                  ...   \n",
       "42199  The story is about Reema , a young Muslim scho...   \n",
       "42200  In 1928 Hollywood, director Leo Andreyev  look...   \n",
       "42201  American Luthier focuses on Randy Parsons’ tra...   \n",
       "42202  Abdur Rehman Khan , a middle-aged dry fruit se...   \n",
       "42203  1940 - Operation Dynamo has just taken place. ...   \n",
       "\n",
       "                                                  genres  \n",
       "0                                  [Drama, World cinema]  \n",
       "1      [Action/Adventure, Science Fiction, Action, Dr...  \n",
       "2                    [Musical, Action, Drama, Bollywood]  \n",
       "3                             [Screwball comedy, Comedy]  \n",
       "4      [Crime Fiction, Drama, Docudrama, World cinema...  \n",
       "...                                                  ...  \n",
       "42199                                       [Children's]  \n",
       "42200  [Silent film, Indie, Black-and-white, Period p...  \n",
       "42201  [Short Film, Music, Biographical film, Documen...  \n",
       "42202                                            [Drama]  \n",
       "42203                                           [Comedy]  \n",
       "\n",
       "[42204 rows x 2 columns]"
      ]
     },
     "execution_count": 2,
     "metadata": {},
     "output_type": "execute_result"
    }
   ],
   "source": [
    "genres = pd.read_csv('data/raw/movie.metadata.tsv',\n",
    "                     delimiter='\\t',\n",
    "                     header=None,\n",
    "                     index_col='id',\n",
    "                     names=['id', 'genres'],\n",
    "                     usecols=[0, 8])\n",
    "\n",
    "summaries = pd.read_csv('data/raw/plot_summaries.txt',\n",
    "                    delimiter='\\t',\n",
    "                    header=None,\n",
    "                    index_col='id',\n",
    "                    names=['id', 'summary'])\n",
    "\n",
    "df = (summaries\n",
    "      .merge(genres, on='id')\n",
    "      .assign(genres=lambda x: x.genres.apply(lambda x: list(eval(x).values())))\n",
    "      .reset_index(drop=True))\n",
    "df"
   ]
  }
 ],
 "metadata": {
  "kernelspec": {
   "display_name": "Python 3",
   "language": "python",
   "name": "python3"
  },
  "language_info": {
   "codemirror_mode": {
    "name": "ipython",
    "version": 3
   },
   "file_extension": ".py",
   "mimetype": "text/x-python",
   "name": "python",
   "nbconvert_exporter": "python",
   "pygments_lexer": "ipython3",
   "version": "3.8.5"
  }
 },
 "nbformat": 4,
 "nbformat_minor": 4
}
