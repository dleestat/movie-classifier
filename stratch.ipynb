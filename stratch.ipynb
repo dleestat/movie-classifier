{
 "cells": [
  {
   "cell_type": "markdown",
   "metadata": {},
   "source": [
    "http://www.cs.cmu.edu/~ark/personas/"
   ]
  },
  {
   "cell_type": "code",
   "execution_count": 1,
   "metadata": {
    "ExecuteTime": {
     "end_time": "2021-01-03T06:18:40.921996Z",
     "start_time": "2021-01-03T06:18:39.488369Z"
    }
   },
   "outputs": [],
   "source": [
    "import matplotlib.pyplot as plt\n",
    "import numpy as np\n",
    "import pandas as pd\n",
    "from sklearn.compose import make_column_transformer\n",
    "from sklearn.feature_extraction.text import TfidfVectorizer\n",
    "from sklearn.linear_model import LogisticRegression\n",
    "from sklearn.model_selection import train_test_split\n",
    "from sklearn.multioutput import MultiOutputClassifier\n",
    "from sklearn.pipeline import make_pipeline\n",
    "from sklearn.preprocessing import MultiLabelBinarizer\n",
    "%config InlineBackend.figure_format = 'retina'"
   ]
  },
  {
   "cell_type": "code",
   "execution_count": 2,
   "metadata": {
    "ExecuteTime": {
     "end_time": "2021-01-03T06:18:43.031549Z",
     "start_time": "2021-01-03T06:18:40.924492Z"
    }
   },
   "outputs": [],
   "source": [
    "genres = pd.read_csv(\n",
    "    'data/raw/movie.metadata.tsv',\n",
    "    converters={'genres': lambda x: list(eval(x).values())},\n",
    "    delimiter='\\t',\n",
    "    header=None,\n",
    "    index_col='id',\n",
    "    names=['id', 'genres'],\n",
    "    usecols=[0, 8])\n",
    "\n",
    "summaries = pd.read_csv(\n",
    "    'data/raw/plot_summaries.txt',\n",
    "    delimiter='\\t',\n",
    "    header=None,\n",
    "    index_col='id',\n",
    "    names=['id', 'summary'])\n",
    "\n",
    "df = summaries.merge(genres, on='id').reset_index(drop=True)\n",
    "mlb = MultiLabelBinarizer()\n",
    "labels = pd.DataFrame(mlb.fit_transform(df.genres), columns=mlb.classes_)\n",
    "X, Y = df[['summary']], labels[labels.sum().nlargest(10).sort_index().index]\n",
    "X_train, X_val, Y_train, Y_val = train_test_split(X, Y, test_size=10000, random_state=0)"
   ]
  },
  {
   "cell_type": "code",
   "execution_count": 3,
   "metadata": {
    "ExecuteTime": {
     "end_time": "2021-01-03T06:18:57.082885Z",
     "start_time": "2021-01-03T06:18:43.034315Z"
    }
   },
   "outputs": [
    {
     "data": {
      "text/plain": [
       "Pipeline(steps=[('columntransformer',\n",
       "                 ColumnTransformer(transformers=[('tfidfvectorizer',\n",
       "                                                  TfidfVectorizer(),\n",
       "                                                  'summary')])),\n",
       "                ('multioutputclassifier',\n",
       "                 MultiOutputClassifier(estimator=LogisticRegression(random_state=0,\n",
       "                                                                    solver='liblinear'),\n",
       "                                       n_jobs=-1))])"
      ]
     },
     "execution_count": 3,
     "metadata": {},
     "output_type": "execute_result"
    }
   ],
   "source": [
    "make_pipeline(\n",
    "    make_column_transformer((TfidfVectorizer(), 'summary')),\n",
    "    MultiOutputClassifier(LogisticRegression(solver='liblinear', random_state=0), n_jobs=-1)\n",
    ").fit(X_train, Y_train)"
   ]
  }
 ],
 "metadata": {
  "kernelspec": {
   "display_name": "Python 3",
   "language": "python",
   "name": "python3"
  },
  "language_info": {
   "codemirror_mode": {
    "name": "ipython",
    "version": 3
   },
   "file_extension": ".py",
   "mimetype": "text/x-python",
   "name": "python",
   "nbconvert_exporter": "python",
   "pygments_lexer": "ipython3",
   "version": "3.8.5"
  }
 },
 "nbformat": 4,
 "nbformat_minor": 4
}
